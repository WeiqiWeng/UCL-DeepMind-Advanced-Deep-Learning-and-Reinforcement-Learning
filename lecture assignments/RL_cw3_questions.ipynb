{
 "cells": [
  {
   "cell_type": "markdown",
   "metadata": {
    "colab_type": "text",
    "id": "pYs6LMEbNqoQ"
   },
   "source": [
    "# RL homework 3"
   ]
  },
  {
   "cell_type": "markdown",
   "metadata": {
    "colab_type": "text",
    "id": "9v_SYckYfv5G"
   },
   "source": [
    "## Context\n",
    "\n",
    "In this assignment, we will investigate the properties of 3 distinct reinforcement learning algorithms:\n",
    "\n",
    "* Online Q-learning\n",
    "* Experience Replay\n",
    "* Dyna-Q\n",
    "\n",
    "We will consider two different dimensions:\n",
    "* Tabular vs Function Approximation\n",
    "* Stationary vs Non-Stationary environments\n",
    "\n",
    "## Background reading\n",
    "\n",
    "* Sutton and Barto (2018), Chapters 8"
   ]
  },
  {
   "cell_type": "markdown",
   "metadata": {
    "colab_type": "text",
    "id": "rNuohp44N00i"
   },
   "source": [
    "# The Assignment\n",
    "\n",
    "### Objectives\n",
    "\n",
    "You will use Python to implement several reinforcement learning algorithms **[50 pts]**.\n",
    "\n",
    "You will then run these algorithms on a few problems, to understand their properties.\n",
    "\n",
    "Finally you will answer a few question about the performance of these algorithms in the various problems **[50pts]**."
   ]
  },
  {
   "cell_type": "markdown",
   "metadata": {
    "colab_type": "text",
    "id": "ztQEQvnKh2t6"
   },
   "source": [
    "# Setup"
   ]
  },
  {
   "cell_type": "code",
   "execution_count": 1,
   "metadata": {
    "colab": {
     "autoexec": {
      "startup": false,
      "wait_interval": 0
     }
    },
    "colab_type": "code",
    "id": "Ps5OnkPmDbMX"
   },
   "outputs": [],
   "source": [
    "import matplotlib.pyplot as plt\n",
    "import numpy as np\n",
    "from collections import namedtuple\n",
    "import random\n",
    "np.set_printoptions(precision=3, suppress=1)\n",
    "plt.style.use('seaborn-notebook')\n",
    "\n",
    "%matplotlib inline"
   ]
  },
  {
   "cell_type": "markdown",
   "metadata": {
    "colab_type": "text",
    "id": "ALrRR76eAd6u"
   },
   "source": [
    "# Grid worlds"
   ]
  },
  {
   "cell_type": "markdown",
   "metadata": {
    "colab_type": "text",
    "id": "uMC6nODK1HAV"
   },
   "source": [
    "**Tabular Grid-World**\n",
    "\n",
    "Simple tabular grid world.\n",
    "\n",
    "You can visualize the grid worlds we will train our agents on, by running the cells below.\n",
    "`S` indicates the start state and `G` indicates the goal.  The agent has four possible actions: up, right, down, and left.  Rewards are: `-5` for bumping into a wall, `+10` for reaching the goal, and `0` otherwise.  The episode ends when the agent reaches the goal, and otherwise continues.  The discount, on continuing steps, is $\\gamma = 0.9$.\n",
    "\n",
    "We will use three distinct GridWorlds:\n",
    "* `Grid` tabular grid world withh a goal in the top right of the grid\n",
    "* `AltGrid` tabular grid world withh a goal in the bottom left of the grid\n",
    "* `FeatureGrid` a grid world with a non tabular representation of states, the features are such to allow some degree of state aliasing"
   ]
  },
  {
   "cell_type": "code",
   "execution_count": 2,
   "metadata": {
    "cellView": "form",
    "colab": {
     "autoexec": {
      "startup": false,
      "wait_interval": 0
     }
    },
    "colab_type": "code",
    "id": "YP97bVN3NuG8"
   },
   "outputs": [],
   "source": [
    "#@title Grid\n",
    "class Grid(object):\n",
    "\n",
    "    def __init__(self, discount=0.9):\n",
    "        # -1: wall\n",
    "        # 0: empty, episode continues\n",
    "        # other: number indicates reward, episode will terminate\n",
    "        self._layout = np.array([\n",
    "          [-1, -1, -1, -1, -1, -1, -1, -1, -1, -1],\n",
    "          [-1,  0,  0,  0,  0,  0,  0,  0,  0, -1],\n",
    "          [-1,  0,  0,  0, -1, -1,  0,  0, 10, -1],\n",
    "          [-1,  0,  0,  0, -1, -1,  0,  0,  0, -1],\n",
    "          [-1,  0,  0,  0, -1, -1,  0,  0,  0, -1],\n",
    "          [-1,  0,  0,  0,  0,  0,  0,  0,  0, -1],\n",
    "          [-1,  0,  0,  0,  0,  0,  0,  0,  0, -1],\n",
    "          [-1,  0,  0,  0,  0,  0,  0,  0,  0, -1],\n",
    "          [-1, -1, -1, -1, -1, -1, -1, -1, -1, -1]\n",
    "        ])\n",
    "        self._start_state = (2, 2)\n",
    "        self._goal_state = (8, 2)\n",
    "        self._state = self._start_state\n",
    "        self._number_of_states = np.prod(np.shape(self._layout))\n",
    "        self._discount = discount\n",
    "\n",
    "    @property\n",
    "    def number_of_states(self):\n",
    "        return self._number_of_states\n",
    "    \n",
    "    def plot_grid(self):\n",
    "        plt.figure(figsize=(3, 3))\n",
    "        plt.imshow(self._layout > -1, interpolation=\"nearest\")     \n",
    "        ax = plt.gca()\n",
    "        ax.grid(0)\n",
    "        plt.xticks([])\n",
    "        plt.yticks([])\n",
    "        plt.title(\"The grid\")\n",
    "        plt.text(\n",
    "            self._start_state[0], self._start_state[1], \n",
    "            r\"$\\mathbf{S}$\", ha='center', va='center')\n",
    "        plt.text(\n",
    "            self._goal_state[0], self._goal_state[1], \n",
    "            r\"$\\mathbf{G}$\", ha='center', va='center')\n",
    "        h, w = self._layout.shape\n",
    "        for y in range(h-1):\n",
    "            plt.plot([-0.5, w-0.5], [y+0.5, y+0.5], '-k', lw=2)\n",
    "        for x in range(w-1):\n",
    "            plt.plot([x+0.5, x+0.5], [-0.5, h-0.5], '-k', lw=2)\n",
    "\n",
    "  \n",
    "    def get_obs(self):\n",
    "        y, x = self._state\n",
    "        return y*self._layout.shape[1] + x\n",
    "  \n",
    "    def int_to_state(self, int_obs):\n",
    "        x = int_obs % self._layout.shape[1]\n",
    "        y = int_obs // self._layout.shape[1]\n",
    "        return y, x\n",
    "\n",
    "    def step(self, action):\n",
    "        y, x = self._state\n",
    "\n",
    "        if action == 0:  # up\n",
    "            new_state = (y - 1, x)\n",
    "        elif action == 1:  # right\n",
    "            new_state = (y, x + 1)\n",
    "        elif action == 2:  # down\n",
    "            new_state = (y + 1, x)\n",
    "        elif action == 3:  # left\n",
    "            new_state = (y, x - 1)\n",
    "        else:\n",
    "            raise ValueError(\"Invalid action: {} is not 0, 1, 2, or 3.\".format(action))\n",
    "\n",
    "        new_y, new_x = new_state\n",
    "        if self._layout[new_y, new_x] == -1:  # wall\n",
    "            reward = -5.\n",
    "            discount = self._discount\n",
    "            new_state = (y, x)\n",
    "        elif self._layout[new_y, new_x] == 0:  # empty cell\n",
    "            reward = 0.\n",
    "            discount = self._discount\n",
    "        else:  # a goal\n",
    "            reward = self._layout[new_y, new_x]\n",
    "            discount = 0.\n",
    "            new_state = self._start_state\n",
    "\n",
    "        self._state = new_state\n",
    "        return reward, discount, self.get_obs()"
   ]
  },
  {
   "cell_type": "code",
   "execution_count": 3,
   "metadata": {
    "cellView": "form",
    "colab": {
     "autoexec": {
      "startup": false,
      "wait_interval": 0
     }
    },
    "colab_type": "code",
    "id": "UXyPvOq-S2OT"
   },
   "outputs": [],
   "source": [
    "#@title AltGrid\n",
    "class AltGrid(Grid):\n",
    "  \n",
    "    def __init__(self, discount=0.9):\n",
    "      # -1: wall\n",
    "      # 0: empty, episode continues\n",
    "      # other: number indicates reward, episode will terminate\n",
    "        self._layout = np.array([\n",
    "            [-1, -1, -1, -1, -1, -1, -1, -1, -1, -1],\n",
    "            [-1,  0,  0,  0,  0,  0,  0,  0,  0, -1],\n",
    "            [-1,  0,  0,  0, -1, -1,  0,  0,  0, -1],\n",
    "            [-1,  0,  0,  0, -1, -1,  0,  0,  0, -1],\n",
    "            [-1,  0,  0,  0, -1, -1,  0,  0,  0, -1],\n",
    "            [-1,  0,  0,  0,  0,  0,  0,  0,  0, -1],\n",
    "            [-1,  0,  0,  0,  0,  0,  0,  0,  0, -1],\n",
    "            [-1,  0, 10,  0,  0,  0,  0,  0,  0, -1],\n",
    "            [-1, -1, -1, -1, -1, -1, -1, -1, -1, -1]\n",
    "        ])\n",
    "        self._start_state = (2, 2)\n",
    "        self._goal_state = (2, 7)\n",
    "        self._state = self._start_state\n",
    "        self._number_of_states = np.prod(np.shape(self._layout))\n",
    "        self._discount = discount"
   ]
  },
  {
   "cell_type": "code",
   "execution_count": 4,
   "metadata": {
    "cellView": "form",
    "colab": {
     "autoexec": {
      "startup": false,
      "wait_interval": 0
     }
    },
    "colab_type": "code",
    "id": "a1OFB5Mv1gC_"
   },
   "outputs": [],
   "source": [
    "#@title FeatureGrid\n",
    "class FeatureGrid(Grid):\n",
    "  \n",
    "    def get_obs(self):\n",
    "        return self.state_to_features(self._state)\n",
    "\n",
    "    def state_to_features(self, state):\n",
    "        y, x = state\n",
    "        x /= float(self._layout.shape[1] - 1)\n",
    "        y /= float(self._layout.shape[0] - 1)\n",
    "        markers = np.arange(0.1, 1.0, 0.1)\n",
    "        features = np.array([np.exp(-40*((x - m)**2+(y - n)**2))\n",
    "                             for m in markers\n",
    "                             for n in markers] + [1.])\n",
    "        return features / np.sum(features**2)\n",
    "\n",
    "    def int_to_features(self, int_state):\n",
    "        return self.state_to_features(self.int_to_state(int_state))\n",
    "\n",
    "    @property\n",
    "    def number_of_features(self):\n",
    "        return len(self.get_obs())"
   ]
  },
  {
   "cell_type": "code",
   "execution_count": 5,
   "metadata": {
    "colab": {
     "autoexec": {
      "startup": false,
      "wait_interval": 0
     },
     "height": 699,
     "output_extras": [
      {
       "item_id": 1
      },
      {
       "item_id": 2
      },
      {
       "item_id": 3
      }
     ]
    },
    "colab_type": "code",
    "executionInfo": {
     "elapsed": 7775,
     "status": "ok",
     "timestamp": 1520449287833,
     "user": {
      "displayName": "Diana Borsa",
      "photoUrl": "//lh3.googleusercontent.com/-ncAFLYhkpa4/AAAAAAAAAAI/AAAAAAAABCo/oObvci_cgWA/s50-c-k-no/photo.jpg",
      "userId": "113702420363391077417"
     },
     "user_tz": 0
    },
    "id": "ZVUhh2qqwep_",
    "outputId": "203c51d7-70c7-4ea1-cd75-954ef7c7ead4"
   },
   "outputs": [
    {
     "data": {
      "image/png": "[encoded data removed]",
      "text/plain": [
       "<matplotlib.figure.Figure at 0x10d2e3978>"
      ]
     },
     "metadata": {},
     "output_type": "display_data"
    },
    {
     "data": {
      "image/png": "[encoded data removed]",
      "text/plain": [
       "<matplotlib.figure.Figure at 0x10d2e39b0>"
      ]
     },
     "metadata": {},
     "output_type": "display_data"
    },
    {
     "data": {
      "image/png": "[encoded data removed]",
      "text/plain": [
       "<matplotlib.figure.Figure at 0x11145f5f8>"
      ]
     },
     "metadata": {},
     "output_type": "display_data"
    }
   ],
   "source": [
    "# Instantiate the two tabular environments\n",
    "grid = Grid()\n",
    "alt_grid = AltGrid()\n",
    "\n",
    "# Plot tabular environments\n",
    "grid.plot_grid()\n",
    "alt_grid.plot_grid()\n",
    "\n",
    "# Instantiate the non tabular version of the environment.\n",
    "feat_grid = FeatureGrid()\n",
    "\n",
    "# Plot the features of each state\n",
    "shape = feat_grid._layout.shape\n",
    "f, axes = plt.subplots(shape[0], shape[1])\n",
    "for state_idx, ax in enumerate(axes.flatten()):\n",
    "    ax.imshow(np.reshape((feat_grid.int_to_features(state_idx)[:-1]),(9,9)), interpolation='nearest')\n",
    "    ax.set_xticks([])\n",
    "    ax.set_yticks([])"
   ]
  },
  {
   "cell_type": "markdown",
   "metadata": {
    "colab_type": "text",
    "id": "cOu9RZY3AkF1"
   },
   "source": [
    "# Helper functions"
   ]
  },
  {
   "cell_type": "code",
   "execution_count": 6,
   "metadata": {
    "colab": {
     "autoexec": {
      "startup": false,
      "wait_interval": 0
     }
    },
    "colab_type": "code",
    "id": "6EttQGJ1n5Zn"
   },
   "outputs": [],
   "source": [
    "def run_experiment(env, agent, number_of_steps):\n",
    "    mean_reward = 0.\n",
    "    try:\n",
    "        action = agent.initial_action()\n",
    "    except AttributeError:\n",
    "        action = 0\n",
    "    for i in range(number_of_steps):\n",
    "        reward, discount, next_state = env.step(action)\n",
    "        action = agent.step(reward, discount, next_state)\n",
    "        mean_reward += (reward - mean_reward)/(i + 1.)\n",
    "\n",
    "    return mean_reward\n",
    "\n",
    "map_from_action_to_subplot = lambda a: (2, 6, 8, 4)[a]\n",
    "map_from_action_to_name = lambda a: (\"up\", \"right\", \"down\", \"left\")[a]\n",
    "\n",
    "def plot_values(values, colormap='pink', vmin=-1, vmax=10):\n",
    "    plt.imshow(values, interpolation=\"nearest\", cmap=colormap, vmin=vmin, vmax=vmax)\n",
    "    plt.yticks([])\n",
    "    plt.xticks([])\n",
    "    plt.colorbar(ticks=[vmin, vmax])\n",
    "\n",
    "def plot_state_value(action_values):\n",
    "    q = action_values\n",
    "    fig = plt.figure(figsize=(4, 4))\n",
    "    vmin = np.min(action_values)\n",
    "    vmax = np.max(action_values)\n",
    "    v = 0.9 * np.max(q, axis=-1) + 0.1 * np.mean(q, axis=-1)\n",
    "    plot_values(v, colormap='summer', vmin=vmin, vmax=vmax)\n",
    "    plt.title(\"$v(s)$\")\n",
    "\n",
    "def plot_action_values(action_values):\n",
    "    q = action_values\n",
    "    fig = plt.figure(figsize=(8, 8))\n",
    "    fig.subplots_adjust(wspace=0.3, hspace=0.3)\n",
    "    vmin = np.min(action_values)\n",
    "    vmax = np.max(action_values)\n",
    "    dif = vmax - vmin\n",
    "    for a in [0, 1, 2, 3]:\n",
    "        plt.subplot(3, 3, map_from_action_to_subplot(a))\n",
    "        plot_values(q[..., a], vmin=vmin - 0.05*dif, vmax=vmax + 0.05*dif)\n",
    "        action_name = map_from_action_to_name(a)\n",
    "        plt.title(r\"$q(s, \\mathrm{\" + action_name + r\"})$\")\n",
    "    \n",
    "    plt.subplot(3, 3, 5)\n",
    "    v = 0.9 * np.max(q, axis=-1) + 0.1 * np.mean(q, axis=-1)\n",
    "    plot_values(v, colormap='summer', vmin=vmin, vmax=vmax)\n",
    "    plt.title(\"$v(s)$\")\n",
    "    \n",
    "def random_policy(q):\n",
    "    return np.random.randint(4)\n",
    "\n",
    "def plot_greedy_policy(grid, q):\n",
    "    action_names = [r\"$\\uparrow$\",r\"$\\rightarrow$\", r\"$\\downarrow$\", r\"$\\leftarrow$\"]\n",
    "    greedy_actions = np.argmax(q, axis=2)\n",
    "    grid.plot_grid()\n",
    "    plt.hold('on')\n",
    "    for i in range(9):\n",
    "        for j in range(10):\n",
    "            action_name = action_names[greedy_actions[i,j]]\n",
    "            plt.text(j, i, action_name, ha='center', va='center')"
   ]
  },
  {
   "cell_type": "markdown",
   "metadata": {
    "colab_type": "text",
    "id": "fzpb_dGVjT0O"
   },
   "source": [
    "# Part 1: Implement Agents\n",
    "\n",
    "Each agent, should implement a step function:\n",
    "\n",
    "### `__init__(self, number_of_actions, number_of_states, initial_observation)`:\n",
    "The constructor will provide the agent the number of actions, number of states, and the initial observation. You can get the initial observation by first instatiating an environment, using `grid = Grid()`, and then calling `grid.get_obs()`.\n",
    "\n",
    "All agents should be in pure Python - so you cannot use TensorFlow to, e.g., compute gradients.  Using `numpy` is fine.\n",
    "\n",
    "### `step(self, reward, discount, next_observation, ...)`:\n",
    "where `...` indicates there could be other inputs (discussed below).  The step should update the internal values, and return a new action to take.\n",
    "\n",
    "When the discount is zero ($\\text{discount} = \\gamma = 0$), then the `next_observation` will be the initial observation of the next episode.  One shouldn't bootstrap on the value of this state, which can simply be guaranteed when using \"$\\gamma \\cdot v(\\text{next_observation})$\" (for whatever definition of $v$ is appropriate) in the update, because $\\gamma = 0$.  So, the end of an episode can be seamlessly handled with the same step function.\n",
    "\n",
    "### `q_values()`:\n",
    "\n",
    "Tabular agents implement a function `q_values()` returning a matrix of Q values of shape: (`number_of_states`, `number_of_actions`)\n",
    "\n",
    "### `q_values(state)`:\n",
    "\n",
    "Agents with Linear function approximation implement a method `q_values(state)` returning an array of Q values of shape: (`number_of_actions`)\n",
    "\n",
    "\n",
    "### A note on the initial action\n",
    "Normally, you would also have to implement a method that gives the initial action, based on the initial state.  As in the previous assignment you can use the action `0` (which corresponds to `up`) as initial action, so that otherwise we do not have to worry about this.  Note that this initial action is only executed once, and the beginning of the first episode---not at the beginning of each episode.\n",
    "\n",
    "Q-learning and it's variants needs to remember the last action in order to update its value when they see the next state.  In the `__init__`, make sure you set the initial action to zero, e.g.,\n",
    "```\n",
    "def __init__(...):\n",
    "  (...)\n",
    "  self._action = 0\n",
    "  (...)\n",
    "```\n"
   ]
  },
  {
   "cell_type": "markdown",
   "metadata": {
    "colab_type": "text",
    "id": "B8oKd0oyvNcH"
   },
   "source": [
    "\n",
    "# Part 1: Implement Agents\n",
    "\n",
    "We are going to implement 5 agent:\n",
    "- Online Tabular Q-learning\n",
    "- Tabular Experience Replay\n",
    "- Tabular Dyna-Q (with a Tabular model)\n",
    "- Experience Replay with linear function approximation\n",
    "- Dyna-Q with linear function approximation (with a linear model)\n",
    "\n"
   ]
  },
  {
   "cell_type": "markdown",
   "metadata": {
    "colab_type": "text",
    "id": "pIgXk6LblHgV"
   },
   "source": [
    "## 1.1 Tabular Model\n",
    "**[5 pts]** Implement a trainable tabular Model of the environment.\n",
    "\n",
    "The Model should implement: \n",
    "* a *next_state* method, taking a state and action and returning the next state in the environment.\n",
    "* a *reward* method, taking a state and action and returning the immediate reward associated to execution that action in that state.\n",
    "* a *discount* method, taking a state and action and returning the discount associated to execution that action in that state.\n",
    "* a *transition* method, taking a state and an action and returning both the next state and the reward associated to that transition.\n",
    "* a *update* method, taking a full transition *(state, action, reward, next_state)* and updating the model (in its reward, discount and next_state component)\n",
    "\n",
    "Given that the environment is deterministic and tabular the model will basically reduce to a simple lookup table."
   ]
  },
  {
   "cell_type": "code",
   "execution_count": 7,
   "metadata": {},
   "outputs": [],
   "source": [
    "EPS = 0.00001"
   ]
  },
  {
   "cell_type": "code",
   "execution_count": 8,
   "metadata": {
    "colab": {
     "autoexec": {
      "startup": false,
      "wait_interval": 0
     }
    },
    "colab_type": "code",
    "id": "13zx3tTrll1g"
   },
   "outputs": [],
   "source": [
    "class TabularModel(object):\n",
    "\n",
    "    def __init__(self, number_of_states, number_of_actions):\n",
    "        self._q = np.zeros((number_of_states, number_of_actions, number_of_states))\n",
    "        self._agg_reward = np.zeros((number_of_states, number_of_actions))\n",
    "        self._agg_discount = np.zeros((number_of_states, number_of_actions))\n",
    "\n",
    "    def next_state(self, s, a):\n",
    "        state_action_cnt = np.sum(self._q[s, a, :])\n",
    "        p = self._q[s, a, :] / (state_action_cnt + EPS)\n",
    "        max_value = np.max(p)\n",
    "        candidates = [i for i, value in enumerate(p) if np.abs(max_value - value) < EPS]\n",
    "        next_s = np.random.choice(candidates, size=1)[0]\n",
    "        return next_s\n",
    "\n",
    "    def reward(self, s, a):\n",
    "        state_action_cnt = np.sum(self._q[s, a, :])\n",
    "        return self._agg_reward[s, a] / (state_action_cnt + EPS)\n",
    "\n",
    "    def discount(self, s, a):\n",
    "        state_action_cnt = np.sum(self._q[s, a, :])\n",
    "        return self._agg_discount[s, a] / (state_action_cnt + EPS)\n",
    "\n",
    "    def transition(self, state, action):\n",
    "        return (\n",
    "            self.reward(state, action), \n",
    "            self.discount(state, action),\n",
    "            self.next_state(state, action))\n",
    "\n",
    "    def update(self, state, action, reward, discount, next_state):\n",
    "        self._q[state, action, next_state] += 1\n",
    "        self._agg_reward[state, action] += reward\n",
    "        self._agg_discount[state, action] += discount\n",
    "\n",
    "        \n",
    "        "
   ]
  },
  {
   "cell_type": "markdown",
   "metadata": {
    "colab_type": "text",
    "id": "rPBcz1riy_fD"
   },
   "source": [
    "## 1.2 Linear Model\n",
    "\n",
    "**[5 pts]** Implement a trainable linear model of the environment.\n",
    "\n",
    "The Model should implement: \n",
    "* a *next_state* method, taking a state and action and returning the predicted next state in the environment.\n",
    "* a *reward* method, taking a state and action and returning the predicted immediate reward associated to execution that action in that state.\n",
    "* a *discount* method, taking a state and action and returning the predicted discount associated to execution that action in that state.\n",
    "* a *transition* method, taking a state and an action and returning both the next state and the reward associated to that transition.\n",
    "* a *update* method, taking a full transition *(state, action, reward, next_state)* and updating the model (in its reward, discount and next_state component)\n",
    "\n",
    "For each selected action, the predicted reward, discount and next state will all be a linear function of the state.\n",
    "* $\\text{s'} = T_a s$\n",
    "* $\\text{r'} = R_a s$\n",
    "* $\\text{g'} = G_a s$\n",
    "\n",
    "Where $T_a$ is a matrix of shape $(\\text{number_of_features}, \\text{number_of_features})$, $R_a$ and $G_a$are vectors of shape $(\\text{number_of_features},)$\n",
    "\n",
    "The parameters of all these linear transformations must be trained by gradient descent. Write down the update to the parameters of the models and implement the update in the model below.\n",
    "\n"
   ]
  },
  {
   "cell_type": "code",
   "execution_count": 9,
   "metadata": {
    "colab": {
     "autoexec": {
      "startup": false,
      "wait_interval": 0
     }
    },
    "colab_type": "code",
    "id": "226SA-xjlyDe"
   },
   "outputs": [],
   "source": [
    "class LinearModel(object):\n",
    "\n",
    "    def __init__(self, number_of_features, number_of_actions):\n",
    "        self._T = np.zeros((number_of_actions, number_of_features, number_of_features))\n",
    "        self._R = np.zeros((number_of_actions, number_of_features))\n",
    "        self._G = np.zeros((number_of_actions, number_of_features))\n",
    "\n",
    "    def next_state(self, s, a):\n",
    "        return self._T[a] @ s\n",
    "        \n",
    "    def reward(self, s, a):\n",
    "        return self._R[a] @ s\n",
    "\n",
    "    def discount(self, s, a):\n",
    "        return self._G[a] @ s\n",
    "\n",
    "    def transition(self, state, action):\n",
    "        return (\n",
    "            self.reward(state, action),\n",
    "            self.discount(state, action),\n",
    "            self.next_state(state, action))\n",
    "\n",
    "    def update(self, state, action, reward, discount, next_state, step_size=0.1):\n",
    "        pred_reward, pred_discount, pred_next_state = self.transition(state, action)\n",
    "        delta = np.matmul((next_state - pred_next_state).reshape(-1,1) , state.reshape(1,-1))\n",
    "        self._T[action] += step_size * delta\n",
    "        self._R[action] += step_size * ((reward - pred_reward) * state)\n",
    "        self._G[action] += step_size * ((reward - pred_discount) * state)"
   ]
  },
  {
   "cell_type": "markdown",
   "metadata": {
    "colab_type": "text",
    "id": "omzJxb5ds0Iq"
   },
   "source": [
    "## 1.3 Experience Replay\n",
    "\n",
    "**[10 pts]** Implement an agent that uses **Experience Replay** to learn action values, at each step:\n",
    "* select actions randomly\n",
    "* accumulate all observed transitions *(s, a, r, s')* in the environment in a *replay buffer*,\n",
    "* apply an online Q-learning \n",
    "* apply multiple Q-learning updates based on transitions sampled (uniformly) from the *replay buffer* (in addition to the online updates).\n",
    "\n",
    "**Initialize** $Q(s, a)$ and $\\text{Model}(s, a)$ for all s ∈ S and a ∈ A(s)\n",
    "\n",
    "**Loop forever**:\n",
    "\n",
    "1. $S \\gets{}$current (nonterminal) state\n",
    " \n",
    "2. $A \\gets{} \\text{random_action}(S)$\n",
    " \n",
    "3. Take action $A$; observe resultant reward $R$, discount $\\gamma$, and state, $S'$\n",
    "\n",
    "4. $Q(S, A) \\gets Q(S, A) + \\alpha (R + \\gamma \\max_a Q(S', a) − Q(S, A))$\n",
    "\n",
    "5. $\\text{ReplayBuffer}.\\text{append_transition}(S, A, R, \\gamma, S')$\n",
    "\n",
    "6. Loop repeat n times:\n",
    "\n",
    "  1. $S, A, R, \\gamma, S' \\gets \\text{ReplayBuffer}.\\text{sample_transition}()$\n",
    "  \n",
    "  4. $Q(S, A) \\gets Q(S, A) + \\alpha (R + \\gamma \\max_a Q(S', a) − Q(S, A))$"
   ]
  },
  {
   "cell_type": "code",
   "execution_count": 10,
   "metadata": {
    "colab": {
     "autoexec": {
      "startup": false,
      "wait_interval": 0
     }
    },
    "colab_type": "code",
    "id": "TB9e_reb2pJX"
   },
   "outputs": [],
   "source": [
    " class ExperienceQ(object):\n",
    "\n",
    "    def __init__(\n",
    "        self, number_of_states, number_of_actions, initial_state, \n",
    "        behaviour_policy, num_offline_updates=0, step_size=0.1):\n",
    "        \n",
    "        self._q = np.zeros((number_of_states, number_of_actions))\n",
    "        self._step_size = step_size\n",
    "        self._num_offline_updates = num_offline_updates\n",
    "        self._behaviour_policy = behaviour_policy\n",
    "        self._state = initial_state\n",
    "        self._action = 0\n",
    "        self._replay = []\n",
    "        \n",
    "    @property\n",
    "    def q_values(self):\n",
    "        return self._q\n",
    "\n",
    "    def step(self, reward, discount, next_state):\n",
    "        s = self._state\n",
    "        a = self._action\n",
    "        r = reward\n",
    "        g = discount\n",
    "        \n",
    "        self._q[s, a] += self._step_size * (r + g * np.max(self._q[next_state]) - self._q[s, a])\n",
    "        self._replay.append((s, a, r, g, next_state))\n",
    "        \n",
    "        for i in range(self._num_offline_updates):            \n",
    "            if len(self._replay) > 1:\n",
    "                sample_s, sample_a, sample_r, sample_discount, sample_next_state = random.choice(self._replay)\n",
    "                self._q[sample_s, sample_a] += self._step_size * (sample_r + sample_discount * np.max(self._q[sample_next_state]) - self._q[sample_s, sample_a])\n",
    "            else:\n",
    "                break\n",
    "        \n",
    "        self._action = self._behaviour_policy(self._q[next_state])\n",
    "        self._state = next_state\n",
    "        \n",
    "        return self._action\n",
    "    "
   ]
  },
  {
   "cell_type": "markdown",
   "metadata": {
    "colab_type": "text",
    "id": "MKfA7ifHvO-M"
   },
   "source": [
    "\n",
    "## 1.4 Dyna-Q\n",
    "**[10 pts]** Implement an agent that uses **Dyna-Q** to learn action values.  \n",
    "* select actions randomly\n",
    "* accumulate all observed transitions *(s, a, r, s')* in the environment in a *replay buffer*,\n",
    "* apply an online Q-learning to Q-value\n",
    "* apply an update to the *model* based on the latest transition\n",
    "* apply multiple Q-learning updates based on transitions *(s, a, model.reward(s), model.next_state(s))* for some previous state and action pair *(s, a)*.\n",
    "\n",
    "**Initialize** $Q(s, a)$ and $\\text{Model}(s, a)$ for all s ∈ S and a ∈ A(s)\n",
    "\n",
    "**Loop forever**:\n",
    "\n",
    "1. $S \\gets{}$current (nonterminal) state\n",
    " \n",
    "2. $A \\gets{} \\text{random_action}(S)$\n",
    " \n",
    "3. Take action $A$; observe resultant reward $R$, discount $\\gamma$, and state, $S'$\n",
    "\n",
    "4. $Q(S, A) \\gets Q(S, A) + \\alpha (R + \\gamma \\max_a Q(S', a) − Q(S, A))$\n",
    "\n",
    "5. $\\text{ReplayBuffer}.\\text{append_transition}(S, A)$\n",
    "\n",
    "6. $\\text{Model}.\\text{update}(S, A, R, \\gamma, S')$\n",
    "\n",
    "6. Loop repeat n times:\n",
    "\n",
    "  1. $S, A \\gets \\text{ReplayBuffer}.\\text{sample_transition}()$\n",
    "  \n",
    "  2. $R, \\gamma, S' \\gets \\text{Model}.\\text{transition}(S, A)$\n",
    "  \n",
    "  3. $Q(S, A) \\gets Q(S, A) + \\alpha (R + \\gamma \\max_a Q(S', a) − Q(S, A))$"
   ]
  },
  {
   "cell_type": "code",
   "execution_count": 11,
   "metadata": {
    "colab": {
     "autoexec": {
      "startup": false,
      "wait_interval": 0
     }
    },
    "colab_type": "code",
    "id": "WdJgVK6_3Q3-"
   },
   "outputs": [],
   "source": [
    "class DynaQ(object):\n",
    "\n",
    "    def __init__(\n",
    "        self, number_of_states, number_of_actions, initial_state, \n",
    "        behaviour_policy, num_offline_updates=0, step_size=0.1):\n",
    "        \n",
    "        self._q = np.zeros((number_of_states, number_of_actions))\n",
    "        self._step_size = step_size\n",
    "        self._num_offline_updates = num_offline_updates\n",
    "        self._behaviour_policy = behaviour_policy\n",
    "        self._state = initial_state\n",
    "        self._action = 0\n",
    "        self._replay = []\n",
    "        self._model = TabularModel(number_of_states, number_of_actions)\n",
    "        \n",
    "    @property\n",
    "    def q_values(self):\n",
    "        return self._q\n",
    "\n",
    "    def step(self, reward, discount, next_state):\n",
    "        s = self._state\n",
    "        a = self._action\n",
    "        r = reward\n",
    "        g = discount\n",
    "        \n",
    "        self._q[s, a] += self._step_size * (r + g * np.max(self._q[next_state]) - self._q[s, a])\n",
    "        self._replay.append((s, a))\n",
    "        self._model.update(s, a, r, g, next_state)\n",
    "        \n",
    "        for i in range(self._num_offline_updates):\n",
    "            if len(self._replay) > 1:\n",
    "                sample_s, sample_a = random.choice(self._replay)\n",
    "                sample_r, sample_discount, sample_next_s = self._model.transition(sample_s, sample_a)\n",
    "                self._q[sample_s, sample_a] += self._step_size * (sample_r + sample_discount * np.max(self._q[sample_next_s]) - self._q[sample_s, sample_a])\n",
    "            else:\n",
    "                break\n",
    "        \n",
    "        self._action = self._behaviour_policy(self._q[next_state])\n",
    "        self._state = next_state\n",
    "        \n",
    "        return self._action\n",
    "        "
   ]
  },
  {
   "cell_type": "markdown",
   "metadata": {
    "colab_type": "text",
    "id": "ra01mmV5VPgm"
   },
   "source": [
    "## 1.5 Experience Replay with Linear Function Approximation\n",
    "\n",
    "**[10 pts]** Implement an agent that uses **Experience Replay** to learn action values as a linear function approximation over a given set of features.\n",
    "\n",
    "**Training**: To make sure of the experience in an online fashion, we will learn this linear model via gradient descent. Write down the update to the parameters of the value function and implement the update in the agent below."
   ]
  },
  {
   "cell_type": "code",
   "execution_count": 12,
   "metadata": {
    "colab": {
     "autoexec": {
      "startup": false,
      "wait_interval": 0
     }
    },
    "colab_type": "code",
    "id": "XOy_bpVa3j6V"
   },
   "outputs": [],
   "source": [
    "class FeatureExperienceQ(ExperienceQ):\n",
    "\n",
    "    def __init__(\n",
    "        self, number_of_features, number_of_actions, *args, **kwargs):\n",
    "        super(FeatureExperienceQ, self).__init__(number_of_actions=number_of_actions, *args, **kwargs)\n",
    "        self._T = np.zeros((number_of_actions, number_of_features))\n",
    "        \n",
    "    def q(self, state):\n",
    "        return self._T @ state\n",
    "\n",
    "    def step(self, reward, discount, next_state):\n",
    "        s = self._state\n",
    "        a = self._action\n",
    "        r = reward\n",
    "        g = discount\n",
    "        \n",
    "        self._replay.append((s, a, r, g, next_state))\n",
    "        \n",
    "        self._T[a] += self._step_size * (r + g * np.max(self.q(next_state)) - self.q(s)[a]) * s\n",
    "        \n",
    "        for i in range(self._num_offline_updates):\n",
    "            if len(self._replay) > 1:\n",
    "                sample_s, sample_a, sample_r, sample_discount, sample_next_state = random.choice(self._replay)\n",
    "                self._T[sample_a] += self._step_size * (sample_r + sample_discount * np.max(self.q(sample_next_state)) - self.q(sample_s)[sample_a]) * sample_s\n",
    "            else:\n",
    "                break\n",
    "        \n",
    "        self._action = self._behaviour_policy(self.q(next_state))\n",
    "        self._state = next_state\n",
    "        \n",
    "        return self._action\n",
    "        \n",
    "        "
   ]
  },
  {
   "cell_type": "markdown",
   "metadata": {
    "colab_type": "text",
    "id": "hlu3YPGAO9ss"
   },
   "source": [
    "\n",
    "## 1.6 Dyna-Q with Linear Function Approximation\n",
    "\n",
    "**[10 pts]** Implement an agent that uses **Dyna-Q** that uses a linear function approximation to represent the value functions and a learnt linear model of the environment (represent and learn both the **transition model**(action conditioned) and the **reward model** as linear transformations of the given set of features).  \n",
    "* select actions randomly\n",
    "* accumulate all observed transitions *(s, a, r, s')* in the environment in a *replay buffer*,\n",
    "* apply an online Q-learning to Q-value\n",
    "* apply an update to the *model* based on the latest transition, use a step_size of 0.01\n",
    "* apply multiple Q-learning updates based on transitions *(s, a, model.reward(s), model.next_state(s))* for some previous state and action pair *(s, a)*.\n",
    "\n",
    "**Initialize** $Q(s, a)$ and $\\text{Model}(s, a)$ for all s ∈ S and a ∈ A(s)\n",
    "\n",
    "**Loop forever**:\n",
    "\n",
    "1. $S \\gets{}$current (nonterminal) state\n",
    " \n",
    "2. $A \\gets{} \\text{random_action}(S)$\n",
    " \n",
    "3. Take action $A$; observe resultant reward $R$, discount $\\gamma$, and state, $S'$\n",
    "\n",
    "4. $Q(S, A) \\gets Q(S, A) + \\alpha (R + \\gamma \\max_a Q(S', a) − Q(S, A))$\n",
    "\n",
    "5. $\\text{ReplayBuffer}.\\text{append_transition}(S, A)$\n",
    "\n",
    "6. $\\text{Model}.\\text{update}(S, A, R, \\gamma, S')$\n",
    "\n",
    "6. Loop repeat n times:\n",
    "\n",
    "  1. $S, A \\gets \\text{ReplayBuffer}.\\text{sample_transition}()$\n",
    "  \n",
    "  2. $R, \\gamma, S' \\gets \\text{Model}.\\text{transition}(S, A)$\n",
    "  \n",
    "  3. $Q(S, A) \\gets Q(S, A) + \\alpha (R + \\gamma \\max_a Q(S', a) − Q(S, A))$"
   ]
  },
  {
   "cell_type": "code",
   "execution_count": 13,
   "metadata": {
    "colab": {
     "autoexec": {
      "startup": false,
      "wait_interval": 0
     }
    },
    "colab_type": "code",
    "id": "1RxFwgIU39dI"
   },
   "outputs": [],
   "source": [
    "class FeatureDynaQ(DynaQ):\n",
    "\n",
    "    def __init__(self, number_of_features, number_of_actions, *args, **kwargs):\n",
    "        super(FeatureDynaQ, self).__init__(number_of_actions=number_of_actions, *args, **kwargs)\n",
    "        self._T = np.zeros((number_of_actions, number_of_features))\n",
    "        self._model = LinearModel(number_of_features, number_of_actions)\n",
    "        \n",
    "    def q(self, state):\n",
    "        return self._T @ state\n",
    "\n",
    "    def step(self, reward, discount, next_state):\n",
    "        s = self._state\n",
    "        a = self._action\n",
    "        r = reward\n",
    "        g = discount\n",
    "        \n",
    "        self._replay.append((s, a))\n",
    "        self._T[a] += self._step_size * (r + g * np.max(self.q(next_state)) - self.q(s)[a]) * s\n",
    "        self._model.update(s, a, r, g, next_state, self._step_size)\n",
    "        \n",
    "        for i in range(self._num_offline_updates):\n",
    "            if len(self._replay) > 1:\n",
    "                sample_s, sample_a = random.choice(self._replay)\n",
    "                sample_r, sample_discount, sample_next_s = self._model.transition(sample_s, sample_a)\n",
    "                self._T[sample_a] += self._step_size * (sample_r + sample_discount * np.max(self.q(sample_next_s)) - self.q(sample_s)[sample_a]) * sample_s\n",
    "            else:\n",
    "                break\n",
    "        \n",
    "        self._action = self._behaviour_policy(self.q(next_state))\n",
    "        self._state = next_state\n",
    "        \n",
    "        return self._action\n",
    "        "
   ]
  },
  {
   "cell_type": "markdown",
   "metadata": {
    "colab_type": "text",
    "id": "1jZsPzCmDxAh"
   },
   "source": [
    "# Assignment 2: Analyse Results"
   ]
  },
  {
   "cell_type": "markdown",
   "metadata": {
    "colab_type": "text",
    "id": "Q5AWyVs16A-x"
   },
   "source": [
    "## 2.1 Tabular Learning"
   ]
  },
  {
   "cell_type": "markdown",
   "metadata": {
    "colab_type": "text",
    "id": "qekcmj4R5Y6J"
   },
   "source": [
    "### 2.1.1 Data Efficiency"
   ]
  },
  {
   "cell_type": "markdown",
   "metadata": {
    "colab_type": "text",
    "id": "JWutE_URvT7K"
   },
   "source": [
    "**Online Q-learning**\n",
    "\n",
    "* $\\text{number_of_steps}$ = $1e3$ and $\\text{num_offline_updates}$ = $0$"
   ]
  },
  {
   "cell_type": "code",
   "execution_count": 16,
   "metadata": {
    "colab": {
     "autoexec": {
      "startup": false,
      "wait_interval": 0
     }
    },
    "colab_type": "code",
    "id": "Iix-yw-MKS4Y"
   },
   "outputs": [
    {
     "data": {
      "image/png": "[encoded data removed]",
      "text/plain": [
       "<matplotlib.figure.Figure at 0x11a047550>"
      ]
     },
     "metadata": {},
     "output_type": "display_data"
    }
   ],
   "source": [
    "grid = Grid()\n",
    "agent = ExperienceQ(\n",
    "  grid._layout.size, 4, grid.get_obs(),\n",
    "  random_policy, num_offline_updates=0, step_size=0.1)\n",
    "run_experiment(grid, agent, int(1e3))\n",
    "q = agent.q_values.reshape(grid._layout.shape + (4,))\n",
    "plot_action_values(q)"
   ]
  },
  {
   "cell_type": "markdown",
   "metadata": {
    "colab_type": "text",
    "id": "KZXsXJYBgC_N"
   },
   "source": [
    "**Experience Replay**\n",
    "\n",
    "* $\\text{number_of_steps}$ = $1e3$ and $\\text{num_offline_updates}$ = $0$"
   ]
  },
  {
   "cell_type": "code",
   "execution_count": 17,
   "metadata": {
    "colab": {
     "autoexec": {
      "startup": false,
      "wait_interval": 0
     }
    },
    "colab_type": "code",
    "id": "ASml5uAeIl4A"
   },
   "outputs": [
    {
     "data": {
      "image/png": "[encoded data removed]",
      "text/plain": [
       "<matplotlib.figure.Figure at 0x11a463e10>"
      ]
     },
     "metadata": {},
     "output_type": "display_data"
    }
   ],
   "source": [
    "grid = Grid()\n",
    "agent = ExperienceQ(\n",
    "  grid._layout.size, 4, grid.get_obs(),\n",
    "  random_policy, num_offline_updates=30, step_size=0.1)\n",
    "run_experiment(grid, agent, int(1e3))\n",
    "q = agent.q_values.reshape(grid._layout.shape + (4,))\n",
    "plot_action_values(q)"
   ]
  },
  {
   "cell_type": "markdown",
   "metadata": {
    "colab_type": "text",
    "id": "dwVs2rrpwL4H"
   },
   "source": [
    "**DynaQ**\n",
    "\n",
    "* $\\text{number_of_steps}$ = $1e3$ and $\\text{num_offline_updates}$ = $30$"
   ]
  },
  {
   "cell_type": "code",
   "execution_count": 18,
   "metadata": {
    "colab": {
     "autoexec": {
      "startup": false,
      "wait_interval": 0
     }
    },
    "colab_type": "code",
    "id": "YG-_cjw-wRzm"
   },
   "outputs": [
    {
     "data": {
      "image/png": "[encoded data removed]",
      "text/plain": [
       "<matplotlib.figure.Figure at 0x11a769780>"
      ]
     },
     "metadata": {},
     "output_type": "display_data"
    }
   ],
   "source": [
    "grid = Grid()\n",
    "agent = DynaQ(\n",
    "  grid._layout.size, 4, grid.get_obs(),\n",
    "  random_policy, num_offline_updates=30, step_size=0.1)\n",
    "run_experiment(grid, agent, 1000)\n",
    "q = agent.q_values.reshape(grid._layout.shape + (4,))\n",
    "plot_action_values(q)"
   ]
  },
  {
   "cell_type": "markdown",
   "metadata": {
    "colab_type": "text",
    "id": "ujZNsXFY52fi"
   },
   "source": [
    "### 2.1.2 Computational Cost\n",
    "\n",
    "What if sampling from the environment is cheap and I don't care about data efficiency but only care about the number of updates to the model?\n",
    "\n",
    "How do Online Q-learning, ExperienceReplay and Dyna-Q compare if I apply the same number of total updates?"
   ]
  },
  {
   "cell_type": "markdown",
   "metadata": {
    "colab_type": "text",
    "id": "SAdl2r7NwUF4"
   },
   "source": [
    "**Online Q-learning**\n",
    "\n",
    "* $\\text{number_of_steps}$ = $3e4$ and $\\text{num_offline_updates}$ = $0$\n",
    "\n"
   ]
  },
  {
   "cell_type": "code",
   "execution_count": 19,
   "metadata": {
    "colab": {
     "autoexec": {
      "startup": false,
      "wait_interval": 0
     }
    },
    "colab_type": "code",
    "id": "OVVWtGoUwiAe"
   },
   "outputs": [
    {
     "name": "stderr",
     "output_type": "stream",
     "text": [
      "/Users/Allen/anaconda3/lib/python3.6/site-packages/ipykernel_launcher.py:57: MatplotlibDeprecationWarning: pyplot.hold is deprecated.\n",
      "    Future behavior will be consistent with the long-time default:\n",
      "    plot commands add elements without first clearing the\n",
      "    Axes and/or Figure.\n",
      "/Users/Allen/anaconda3/lib/python3.6/site-packages/matplotlib/__init__.py:805: MatplotlibDeprecationWarning: axes.hold is deprecated. Please remove it from your matplotlibrc and/or style files.\n",
      "  mplDeprecation)\n",
      "/Users/Allen/anaconda3/lib/python3.6/site-packages/matplotlib/rcsetup.py:155: MatplotlibDeprecationWarning: axes.hold is deprecated, will be removed in 3.0\n",
      "  mplDeprecation)\n"
     ]
    },
    {
     "data": {
      "image/png": "[encoded data removed]",
      "text/plain": [
       "<matplotlib.figure.Figure at 0x11a7690b8>"
      ]
     },
     "metadata": {},
     "output_type": "display_data"
    },
    {
     "data": {
      "image/png": "[encoded data removed]",
      "text/plain": [
       "<matplotlib.figure.Figure at 0x11a769160>"
      ]
     },
     "metadata": {},
     "output_type": "display_data"
    }
   ],
   "source": [
    "grid = Grid()\n",
    "agent = ExperienceQ(\n",
    "  grid._layout.size, 4, grid.get_obs(),\n",
    "  random_policy, num_offline_updates=0, step_size=0.1)\n",
    "run_experiment(grid, agent, int(3e4))\n",
    "q = agent.q_values.reshape(grid._layout.shape + (4,))\n",
    "plot_action_values(q)\n",
    "plot_greedy_policy(grid, q)"
   ]
  },
  {
   "cell_type": "markdown",
   "metadata": {
    "colab_type": "text",
    "id": "AoO6dEZqftB1"
   },
   "source": [
    "**ExperienceReplay**\n",
    "\n",
    "* $\\text{number_of_steps}$ = $1e3$ and $\\text{num_offline_updates}$ = $30$"
   ]
  },
  {
   "cell_type": "code",
   "execution_count": 20,
   "metadata": {
    "colab": {
     "autoexec": {
      "startup": false,
      "wait_interval": 0
     }
    },
    "colab_type": "code",
    "id": "PuoUs8xVxady"
   },
   "outputs": [
    {
     "name": "stderr",
     "output_type": "stream",
     "text": [
      "/Users/Allen/anaconda3/lib/python3.6/site-packages/ipykernel_launcher.py:57: MatplotlibDeprecationWarning: pyplot.hold is deprecated.\n",
      "    Future behavior will be consistent with the long-time default:\n",
      "    plot commands add elements without first clearing the\n",
      "    Axes and/or Figure.\n",
      "/Users/Allen/anaconda3/lib/python3.6/site-packages/matplotlib/__init__.py:805: MatplotlibDeprecationWarning: axes.hold is deprecated. Please remove it from your matplotlibrc and/or style files.\n",
      "  mplDeprecation)\n",
      "/Users/Allen/anaconda3/lib/python3.6/site-packages/matplotlib/rcsetup.py:155: MatplotlibDeprecationWarning: axes.hold is deprecated, will be removed in 3.0\n",
      "  mplDeprecation)\n"
     ]
    },
    {
     "data": {
      "image/png": "[encoded data removed]",
      "text/plain": [
       "<matplotlib.figure.Figure at 0x11a46df98>"
      ]
     },
     "metadata": {},
     "output_type": "display_data"
    },
    {
     "data": {
      "image/png": "[encoded data removed]",
      "text/plain": [
       "<matplotlib.figure.Figure at 0x11a111080>"
      ]
     },
     "metadata": {},
     "output_type": "display_data"
    }
   ],
   "source": [
    "grid = Grid()\n",
    "agent = ExperienceQ(\n",
    "  grid._layout.size, 4, grid.get_obs(),\n",
    "  random_policy, num_offline_updates=30, step_size=0.1)\n",
    "run_experiment(grid, agent, int(1e3))\n",
    "q = agent.q_values.reshape(grid._layout.shape + (4,))\n",
    "plot_action_values(q)\n",
    "plot_greedy_policy(grid, q)"
   ]
  },
  {
   "cell_type": "markdown",
   "metadata": {
    "colab_type": "text",
    "id": "2U-4sam12y95"
   },
   "source": [
    "**DynaQ**\n",
    "\n",
    "* $\\text{number_of_steps}$ = $1e3$ and $\\text{num_offline_updates}$ = $30$"
   ]
  },
  {
   "cell_type": "code",
   "execution_count": 21,
   "metadata": {
    "colab": {
     "autoexec": {
      "startup": false,
      "wait_interval": 0
     }
    },
    "colab_type": "code",
    "id": "hDOW4dd221L6"
   },
   "outputs": [
    {
     "name": "stderr",
     "output_type": "stream",
     "text": [
      "/Users/Allen/anaconda3/lib/python3.6/site-packages/ipykernel_launcher.py:57: MatplotlibDeprecationWarning: pyplot.hold is deprecated.\n",
      "    Future behavior will be consistent with the long-time default:\n",
      "    plot commands add elements without first clearing the\n",
      "    Axes and/or Figure.\n",
      "/Users/Allen/anaconda3/lib/python3.6/site-packages/matplotlib/__init__.py:805: MatplotlibDeprecationWarning: axes.hold is deprecated. Please remove it from your matplotlibrc and/or style files.\n",
      "  mplDeprecation)\n",
      "/Users/Allen/anaconda3/lib/python3.6/site-packages/matplotlib/rcsetup.py:155: MatplotlibDeprecationWarning: axes.hold is deprecated, will be removed in 3.0\n",
      "  mplDeprecation)\n"
     ]
    },
    {
     "data": {
      "image/png": "[encoded data removed]",
      "text/plain": [
       "<matplotlib.figure.Figure at 0x10d347908>"
      ]
     },
     "metadata": {},
     "output_type": "display_data"
    },
    {
     "data": {
      "image/png": "[encoded data removed]",
      "text/plain": [
       "<matplotlib.figure.Figure at 0x10d347550>"
      ]
     },
     "metadata": {},
     "output_type": "display_data"
    }
   ],
   "source": [
    "grid = Grid()\n",
    "agent = DynaQ(\n",
    "  grid._layout.size, 4, grid.get_obs(),\n",
    "  random_policy, num_offline_updates=30, step_size=0.1)\n",
    "run_experiment(grid, agent, 5000)\n",
    "q = agent.q_values.reshape(grid._layout.shape + (4,))\n",
    "plot_action_values(q)\n",
    "plot_greedy_policy(grid, q)"
   ]
  },
  {
   "cell_type": "markdown",
   "metadata": {
    "colab_type": "text",
    "id": "GBLluo2AXMsH"
   },
   "source": [
    "## 2.3 Linear function approximation\n",
    "\n",
    "We will now consider the $\\text{FeatureGrid}$ domain.\n",
    "\n",
    "And evaluate $\\text{Q-learning}$, $\\text{Experience Replay}$ and $\\text{DynaQ}$, in the context of linear function approximation.\n",
    "\n",
    "All experiments are run for $\\text{number_of_steps}$ = $1e5$"
   ]
  },
  {
   "cell_type": "markdown",
   "metadata": {
    "colab_type": "text",
    "id": "cSrpV6pgcCR-"
   },
   "source": [
    "**Online Q-learning with Linear Function Approximation**"
   ]
  },
  {
   "cell_type": "code",
   "execution_count": 22,
   "metadata": {
    "colab": {
     "autoexec": {
      "startup": false,
      "wait_interval": 0
     }
    },
    "colab_type": "code",
    "id": "zwlRPm1uXMyv"
   },
   "outputs": [
    {
     "name": "stderr",
     "output_type": "stream",
     "text": [
      "/Users/Allen/anaconda3/lib/python3.6/site-packages/ipykernel_launcher.py:57: MatplotlibDeprecationWarning: pyplot.hold is deprecated.\n",
      "    Future behavior will be consistent with the long-time default:\n",
      "    plot commands add elements without first clearing the\n",
      "    Axes and/or Figure.\n",
      "/Users/Allen/anaconda3/lib/python3.6/site-packages/matplotlib/__init__.py:805: MatplotlibDeprecationWarning: axes.hold is deprecated. Please remove it from your matplotlibrc and/or style files.\n",
      "  mplDeprecation)\n",
      "/Users/Allen/anaconda3/lib/python3.6/site-packages/matplotlib/rcsetup.py:155: MatplotlibDeprecationWarning: axes.hold is deprecated, will be removed in 3.0\n",
      "  mplDeprecation)\n"
     ]
    },
    {
     "data": {
      "image/png": "[encoded data removed]",
      "text/plain": [
       "<matplotlib.figure.Figure at 0x11ac75a20>"
      ]
     },
     "metadata": {},
     "output_type": "display_data"
    },
    {
     "data": {
      "image/png": "[encoded data removed]",
      "text/plain": [
       "<matplotlib.figure.Figure at 0x1163728d0>"
      ]
     },
     "metadata": {},
     "output_type": "display_data"
    }
   ],
   "source": [
    "grid = FeatureGrid()\n",
    "\n",
    "agent = FeatureExperienceQ(\n",
    "  number_of_features=grid.number_of_features, number_of_actions=4,\n",
    "  number_of_states=grid._layout.size, initial_state=grid.get_obs(),\n",
    "  num_offline_updates=0, step_size=0.01, behaviour_policy=random_policy)\n",
    "run_experiment(grid, agent, 10000)\n",
    "q = np.reshape(\n",
    "    np.array([agent.q(grid.int_to_features(i)) for i in range(grid.number_of_states)]),\n",
    "    [grid._layout.shape[0], grid._layout.shape[1], 4])\n",
    "plot_action_values(q)\n",
    "plot_greedy_policy(grid, q)"
   ]
  },
  {
   "cell_type": "markdown",
   "metadata": {
    "colab_type": "text",
    "id": "LguqeKO4dXBH"
   },
   "source": [
    "**Experience Replay with Linear Function Approximation**"
   ]
  },
  {
   "cell_type": "code",
   "execution_count": 23,
   "metadata": {
    "colab": {
     "autoexec": {
      "startup": false,
      "wait_interval": 0
     }
    },
    "colab_type": "code",
    "id": "Wb6XeKzXcIsi"
   },
   "outputs": [
    {
     "name": "stderr",
     "output_type": "stream",
     "text": [
      "/Users/Allen/anaconda3/lib/python3.6/site-packages/ipykernel_launcher.py:57: MatplotlibDeprecationWarning: pyplot.hold is deprecated.\n",
      "    Future behavior will be consistent with the long-time default:\n",
      "    plot commands add elements without first clearing the\n",
      "    Axes and/or Figure.\n",
      "/Users/Allen/anaconda3/lib/python3.6/site-packages/matplotlib/__init__.py:805: MatplotlibDeprecationWarning: axes.hold is deprecated. Please remove it from your matplotlibrc and/or style files.\n",
      "  mplDeprecation)\n",
      "/Users/Allen/anaconda3/lib/python3.6/site-packages/matplotlib/rcsetup.py:155: MatplotlibDeprecationWarning: axes.hold is deprecated, will be removed in 3.0\n",
      "  mplDeprecation)\n"
     ]
    },
    {
     "data": {
      "image/png": "[encoded data removed]",
      "text/plain": [
       "<matplotlib.figure.Figure at 0x11a4525c0>"
      ]
     },
     "metadata": {},
     "output_type": "display_data"
    },
    {
     "data": {
      "image/png": "[encoded data removed]",
      "text/plain": [
       "<matplotlib.figure.Figure at 0x11a452518>"
      ]
     },
     "metadata": {},
     "output_type": "display_data"
    }
   ],
   "source": [
    "grid = FeatureGrid()\n",
    "\n",
    "agent = FeatureExperienceQ(\n",
    "  number_of_features=grid.number_of_features, number_of_actions=4,\n",
    "  number_of_states=grid._layout.size, initial_state=grid.get_obs(),\n",
    "  num_offline_updates=10, step_size=0.01, behaviour_policy=random_policy)\n",
    "run_experiment(grid, agent, int(1e5))\n",
    "q = np.reshape(\n",
    "    np.array([agent.q(grid.int_to_features(i)) for i in range(grid.number_of_states)]),\n",
    "    [grid._layout.shape[0], grid._layout.shape[1], 4])\n",
    "plot_action_values(q)\n",
    "plot_greedy_policy(grid, q)"
   ]
  },
  {
   "cell_type": "markdown",
   "metadata": {
    "colab_type": "text",
    "id": "ERjyViuj1EkS"
   },
   "source": [
    "**DynaQ with Linear Function Approximation**"
   ]
  },
  {
   "cell_type": "code",
   "execution_count": 24,
   "metadata": {
    "colab": {
     "autoexec": {
      "startup": false,
      "wait_interval": 0
     }
    },
    "colab_type": "code",
    "id": "DVDRVknH1MXw"
   },
   "outputs": [
    {
     "name": "stderr",
     "output_type": "stream",
     "text": [
      "/Users/Allen/anaconda3/lib/python3.6/site-packages/ipykernel_launcher.py:57: MatplotlibDeprecationWarning: pyplot.hold is deprecated.\n",
      "    Future behavior will be consistent with the long-time default:\n",
      "    plot commands add elements without first clearing the\n",
      "    Axes and/or Figure.\n",
      "/Users/Allen/anaconda3/lib/python3.6/site-packages/matplotlib/__init__.py:805: MatplotlibDeprecationWarning: axes.hold is deprecated. Please remove it from your matplotlibrc and/or style files.\n",
      "  mplDeprecation)\n",
      "/Users/Allen/anaconda3/lib/python3.6/site-packages/matplotlib/rcsetup.py:155: MatplotlibDeprecationWarning: axes.hold is deprecated, will be removed in 3.0\n",
      "  mplDeprecation)\n"
     ]
    },
    {
     "data": {
      "image/png": "[encoded data removed]",
      "text/plain": [
       "<matplotlib.figure.Figure at 0x11b977240>"
      ]
     },
     "metadata": {},
     "output_type": "display_data"
    },
    {
     "data": {
      "image/png": "[encoded data removed]",
      "text/plain": [
       "<matplotlib.figure.Figure at 0x11b977e80>"
      ]
     },
     "metadata": {},
     "output_type": "display_data"
    }
   ],
   "source": [
    "grid = FeatureGrid()\n",
    "\n",
    "agent = FeatureDynaQ(\n",
    "  number_of_features=grid.number_of_features, \n",
    "  number_of_actions=4,\n",
    "  number_of_states=grid._layout.size, \n",
    "  initial_state=grid.get_obs(),\n",
    "  num_offline_updates=10, \n",
    "  step_size=0.01,\n",
    "  behaviour_policy=random_policy)\n",
    "\n",
    "run_experiment(grid, agent, 10000)\n",
    "q = np.reshape(\n",
    "    np.array([agent.q(grid.int_to_features(i)) for i in range(grid.number_of_states)]),\n",
    "    [grid._layout.shape[0], grid._layout.shape[1], 4])\n",
    "plot_action_values(q)\n",
    "plot_greedy_policy(grid, q)"
   ]
  },
  {
   "cell_type": "markdown",
   "metadata": {
    "colab_type": "text",
    "id": "arP0Nf0XUGrB"
   },
   "source": [
    "## 2.4 Non stationary Environments\n",
    "\n",
    "We now consider a non-stationary setting where after `pretrain_steps` in the environment, the goal is moved to a new location (from the top-right of the grid to the bottom-left).\n",
    "\n",
    "The agent is allowed to continue training for a (shorter) amount of time in this new setting, and then we evaluate the value estimates."
   ]
  },
  {
   "cell_type": "code",
   "execution_count": 25,
   "metadata": {
    "colab": {
     "autoexec": {
      "startup": false,
      "wait_interval": 0
     }
    },
    "colab_type": "code",
    "id": "Hjhd4kylg-BA"
   },
   "outputs": [],
   "source": [
    "pretrain_steps = 2e4\n",
    "new_env_steps = pretrain_steps / 30"
   ]
  },
  {
   "cell_type": "markdown",
   "metadata": {
    "colab_type": "text",
    "id": "K1kJZmOgX7du"
   },
   "source": [
    "**Online Q-learning**"
   ]
  },
  {
   "cell_type": "code",
   "execution_count": 26,
   "metadata": {
    "colab": {
     "autoexec": {
      "startup": false,
      "wait_interval": 0
     }
    },
    "colab_type": "code",
    "id": "6P9lC323X7uH"
   },
   "outputs": [
    {
     "data": {
      "image/png": "[encoded data removed]",
      "text/plain": [
       "<matplotlib.figure.Figure at 0x11ae240f0>"
      ]
     },
     "metadata": {},
     "output_type": "display_data"
    }
   ],
   "source": [
    "# Train on first environment\n",
    "grid = Grid()\n",
    "agent = ExperienceQ(\n",
    "  grid._layout.size, 4, grid.get_obs(),\n",
    "  random_policy, num_offline_updates=0, step_size=0.1)\n",
    "run_experiment(grid, agent, int(pretrain_steps))\n",
    "q = agent.q_values.reshape(grid._layout.shape + (4,))\n",
    "plot_state_value(q)"
   ]
  },
  {
   "cell_type": "code",
   "execution_count": 27,
   "metadata": {
    "colab": {
     "autoexec": {
      "startup": false,
      "wait_interval": 0
     }
    },
    "colab_type": "code",
    "id": "6P9lC323X7uH"
   },
   "outputs": [
    {
     "data": {
      "image/png": "[encoded data removed]",
      "text/plain": [
       "<matplotlib.figure.Figure at 0x10d2e3908>"
      ]
     },
     "metadata": {},
     "output_type": "display_data"
    }
   ],
   "source": [
    "# Change goal location\n",
    "alt_grid = AltGrid()\n",
    "run_experiment(alt_grid, agent, int(new_env_steps))\n",
    "alt_q = agent.q_values.reshape(alt_grid._layout.shape + (4,))\n",
    "plot_state_value(alt_q)"
   ]
  },
  {
   "cell_type": "markdown",
   "metadata": {
    "colab_type": "text",
    "id": "z0UeIltFc3lR"
   },
   "source": [
    "**Experience Replay**"
   ]
  },
  {
   "cell_type": "code",
   "execution_count": 28,
   "metadata": {
    "colab": {
     "autoexec": {
      "startup": false,
      "wait_interval": 0
     }
    },
    "colab_type": "code",
    "id": "bq5msw1iY-Q5"
   },
   "outputs": [
    {
     "data": {
      "image/png": "[encoded data removed]",
      "text/plain": [
       "<matplotlib.figure.Figure at 0x11a920128>"
      ]
     },
     "metadata": {},
     "output_type": "display_data"
    }
   ],
   "source": [
    "# Train on first environment\n",
    "grid = Grid()\n",
    "agent = ExperienceQ(\n",
    "  grid._layout.size, 4, grid.get_obs(),\n",
    "  random_policy, num_offline_updates=30, step_size=0.1)\n",
    "run_experiment(grid, agent, int(pretrain_steps))\n",
    "q = agent.q_values.reshape(grid._layout.shape + (4,))\n",
    "plot_state_value(q)"
   ]
  },
  {
   "cell_type": "code",
   "execution_count": 29,
   "metadata": {
    "colab": {
     "autoexec": {
      "startup": false,
      "wait_interval": 0
     }
    },
    "colab_type": "code",
    "id": "bq5msw1iY-Q5"
   },
   "outputs": [
    {
     "data": {
      "image/png": "[encoded data removed]",
      "text/plain": [
       "<matplotlib.figure.Figure at 0x119cd2d30>"
      ]
     },
     "metadata": {},
     "output_type": "display_data"
    }
   ],
   "source": [
    "# Change goal location\n",
    "alt_grid = AltGrid()\n",
    "run_experiment(alt_grid, agent, int(new_env_steps))\n",
    "alt_q = agent.q_values.reshape(alt_grid._layout.shape + (4,))\n",
    "plot_state_value(alt_q)"
   ]
  },
  {
   "cell_type": "markdown",
   "metadata": {
    "colab_type": "text",
    "id": "uPHiZc0-X26F"
   },
   "source": [
    "**Dyna**"
   ]
  },
  {
   "cell_type": "code",
   "execution_count": 30,
   "metadata": {
    "colab": {
     "autoexec": {
      "startup": false,
      "wait_interval": 0
     }
    },
    "colab_type": "code",
    "id": "AwztU4EbUXe0"
   },
   "outputs": [
    {
     "data": {
      "image/png": "[encoded data removed]",
      "text/plain": [
       "<matplotlib.figure.Figure at 0x11a452160>"
      ]
     },
     "metadata": {},
     "output_type": "display_data"
    }
   ],
   "source": [
    "# Train on first environment\n",
    "grid = Grid()\n",
    "agent = DynaQ(\n",
    "  grid._layout.size, 4, grid.get_obs(),\n",
    "  random_policy, num_offline_updates=30, step_size=0.1)\n",
    "run_experiment(grid, agent, int(pretrain_steps))\n",
    "q = agent.q_values.reshape(grid._layout.shape + (4,))\n",
    "plot_state_value(q)"
   ]
  },
  {
   "cell_type": "code",
   "execution_count": 31,
   "metadata": {
    "colab": {
     "autoexec": {
      "startup": false,
      "wait_interval": 0
     }
    },
    "colab_type": "code",
    "id": "AwztU4EbUXe0"
   },
   "outputs": [
    {
     "data": {
      "image/png": "[encoded data removed]",
      "text/plain": [
       "<matplotlib.figure.Figure at 0x11a8ed080>"
      ]
     },
     "metadata": {},
     "output_type": "display_data"
    }
   ],
   "source": [
    "# Change goal location\n",
    "alt_grid = AltGrid()\n",
    "run_experiment(alt_grid, agent, int(new_env_steps))\n",
    "alt_q = agent.q_values.reshape(alt_grid._layout.shape + (4,))\n",
    "plot_state_value(alt_q)"
   ]
  },
  {
   "cell_type": "markdown",
   "metadata": {
    "colab_type": "text",
    "id": "LGptHwE23lmP"
   },
   "source": [
    "## Questions\n",
    "\n",
    "### Basic Tabular Learning\n",
    "\n",
    "**[5 pts]** Why is the ExperienceReplay agent so much more data efficient than online Q-learning?\n",
    "\n",
    "ExperienceReplay agent learns from data multiple times in offline updates.\n",
    "\n",
    "**[5 pts]** If we run the experiments for the same number of updates, rather than the same number of steps in the environment, which among online Q-learning and Experience Replay performs better? Why?\n",
    "\n",
    "Online Q-learning performs better since it updates upon real data while the offline updates of ExperienceReplay might be based on biased samples.\n",
    "\n",
    "**[5 pts]** Which among online Q-learning and Dyna-Q is more data efficient? why?\n",
    "\n",
    "Dyna-Q is more data efficient since it does offline updates through replay buffer.\n",
    "\n",
    "**[5 pts]** If we run the experiments for the same number of updates, rather than the same number of steps in the environment, which among online Q-learning and Dyna-Q performs better? Why?\n",
    "\n",
    "Online Q-learning performs better since it updates upon real data while the offline updates of Dyna-Q might be based on biased and errorous samples estimated by model.\n",
    "\n",
    "### Linear function approximation\n",
    "\n",
    "**[5 pts]** The value estimates with function approximation are considerably more blurry than in the tabular setting despite more training steps and interactions with the environment, why is this the case?\n",
    "\n",
    "Function approximation updates all parameters given one interaction while tabular model only updates one action-value pair.\n",
    "\n",
    "**[5 pts]** Inspect the policies derived by training agents with linear function approximation on `FeatureGrid` (as shown by `plot_greedy_policy`). How does this compare to the optimal policy? Are there any inconsistencies you can spot? What is the reason of these?\n",
    "\n",
    "It's worse than the optimal policy. The policy indicated by Grid[4][2] and Grid[5][2] are inconsistent. For linear function approximation, the parameters are updated together given one interaction with the real world so it needs more updates to differentiate.\n",
    "\n",
    "### Learning in a non stationary environment\n",
    "\n",
    "Consider now the tabular but non-stationary setting of section 2.4.\n",
    "\n",
    "After an initial pretraining phase, the goal location is moved to a new location, where the agent is allowed to train for some (shorter) time.\n",
    "\n",
    "**[10 pts]** Compare the value estimates of online Q-learning and Experience Replay, after training also on the new goal location, explain what you see. \n",
    "\n",
    "Experience Replay has not significantly updated towards the new goal while online Q-learning is aware of the new goal. This is because Experience Replay agent learns from the samples in the replay buffer which is not updated to new goal accordingly in time.\n",
    "\n",
    "**[10 pts]** Compare the value estimates of online Q-learning and Dyna-Q, after training also on the new goal location, explain what you see.\n",
    "\n",
    "Back up your observations with visualizations of the value/policy.\n",
    "\n",
    "Dyna-Q has higher estimated values on the left bottom near the new goal after training towards the new goal location. This is because the linear function updates upon new coming samples first before updating the model for learning state-action pairs after the change of new goal. In this way Dyna-Q updates the values near new goal earlier than Q-learning, which depends on real observations on the areas near new goal.\n"
   ]
  },
  {
   "cell_type": "code",
   "execution_count": null,
   "metadata": {
    "colab": {
     "autoexec": {
      "startup": false,
      "wait_interval": 0
     }
    },
    "colab_type": "code",
    "id": "-9MNyXV165oG"
   },
   "outputs": [],
   "source": []
  }
 ],
 "metadata": {
  "colab": {
   "collapsed_sections": [],
   "default_view": {},
   "name": "RL3 - Q",
   "provenance": [
    {
     "file_id": "1mIWeHr4YB6AVcwtRszH87Lj7y3pEhLVM",
     "timestamp": 1520447403512
    },
    {
     "file_id": "1AmoBDF9hWeKfxWp6h_ihyI-KFbhQeSJW",
     "timestamp": 1520259410401
    },
    {
     "file_id": "1FwMxkDPkt68fxovrMmmWwm6ohYvX2wt1",
     "timestamp": 1517660129183
    },
    {
     "file_id": "1wwTq5nociiMHUb26jxrvZvGN6l11xV5o",
     "timestamp": 1517174839485
    },
    {
     "file_id": "1_gJNoj9wG4mnigscGRAcZx7RHix3HCjG",
     "timestamp": 1515086437469
    },
    {
     "file_id": "1hcBeMVfaSh8g1R2ujtmxOSHoxJ8xYkaW",
     "timestamp": 1511098107887
    }
   ],
   "version": "0.3.2",
   "views": {}
  },
  "kernelspec": {
   "display_name": "Python 3",
   "language": "python",
   "name": "python3"
  },
  "language_info": {
   "codemirror_mode": {
    "name": "ipython",
    "version": 3
   },
   "file_extension": ".py",
   "mimetype": "text/x-python",
   "name": "python",
   "nbconvert_exporter": "python",
   "pygments_lexer": "ipython3",
   "version": "3.6.6"
  }
 },
 "nbformat": 4,
 "nbformat_minor": 1
}
